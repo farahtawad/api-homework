{
 "cells": [
  {
   "cell_type": "markdown",
   "metadata": {},
   "source": [
    "# Unit 5 - Financial Planning\n"
   ]
  },
  {
   "cell_type": "markdown",
   "metadata": {},
   "source": [
    "### Format data with `json.dumps`"
   ]
  },
  {
   "cell_type": "code",
   "execution_count": 4,
   "metadata": {},
   "outputs": [],
   "source": [
    "# Initial imports\n",
    "import os\n",
    "import requests\n",
    "import pandas as pd\n",
    "from dotenv import load_dotenv\n",
    "import alpaca_trade_api as tradeapi\n",
    "from MCForecastTools import MCSimulation\n",
    "\n",
    "%matplotlib inline"
   ]
  },
  {
   "cell_type": "code",
   "execution_count": 5,
   "metadata": {},
   "outputs": [
    {
     "data": {
      "text/plain": [
       "True"
      ]
     },
     "execution_count": 5,
     "metadata": {},
     "output_type": "execute_result"
    }
   ],
   "source": [
    "# Load .env enviroment variables\n",
    "load_dotenv()"
   ]
  },
  {
   "cell_type": "markdown",
   "metadata": {},
   "source": [
    "## Part 1 - Personal Finance Planner"
   ]
  },
  {
   "cell_type": "markdown",
   "metadata": {},
   "source": [
    "### Collect Crypto Prices Using the `requests` Library"
   ]
  },
  {
   "cell_type": "code",
   "execution_count": 32,
   "metadata": {},
   "outputs": [],
   "source": [
    "# Set current amount of crypto assets\n",
    "my_btc = 1.2\n",
    "my_eth = 3.5"
   ]
  },
  {
   "cell_type": "code",
   "execution_count": 33,
   "metadata": {},
   "outputs": [],
   "source": [
    "# Crypto API URLs\n",
    "btc_url = \"https://api.alternative.me/v2/ticker/Bitcoin/?convert=CAD\"\n",
    "eth_url = \"https://api.alternative.me/v2/ticker/Ethereum/?convert=CAD\""
   ]
  },
  {
   "cell_type": "code",
   "execution_count": 34,
   "metadata": {},
   "outputs": [
    {
     "name": "stdout",
     "output_type": "stream",
     "text": [
      "The current value of your 1.2 BTC is $14082.60\n",
      "The current value of your 3.5 ETH is $1329.19\n"
     ]
    }
   ],
   "source": [
    "# Fetch current BTC price\n",
    "btc_url = requests.get(btc_url)\n",
    "btc_content = btc_url.json()\n",
    "# Fetch current ETH price\n",
    "eth_url = requests.get(eth_url)\n",
    "eth_content = eth_url.json()\n",
    "\n",
    "# Compute current value of my crpto\n",
    "my_btc_value = btc_content['data']['1']['quotes']['USD']['price'] * my_btc\n",
    "my_eth_value = eth_content['data']['1027']['quotes']['USD']['price'] * my_eth\n",
    "# Print current crypto wallet balance\n",
    "print(f\"The current value of your {my_btc} BTC is ${my_btc_value:0.2f}\")\n",
    "print(f\"The current value of your {my_eth} ETH is ${my_eth_value:0.2f}\")"
   ]
  },
  {
   "cell_type": "markdown",
   "metadata": {},
   "source": [
    "### Collect Investments Data Using Alpaca: `SPY` (stocks) and `AGG` (bonds)"
   ]
  },
  {
   "cell_type": "code",
   "execution_count": 35,
   "metadata": {},
   "outputs": [],
   "source": [
    "# Current amount of shares\n",
    "my_agg = 200\n",
    "my_spy = 50"
   ]
  },
  {
   "cell_type": "code",
   "execution_count": 36,
   "metadata": {},
   "outputs": [],
   "source": [
    "# Set Alpaca API key and secret\n",
    "alpaca_key = os.getenv('ALPACA_API_KEY')\n",
    "alpaca_secret = os.getenv('ALPACA_SECRET_KEY')\n",
    "# Create the Alpaca API object\n",
    "api = tradeapi.REST(alpaca_key, alpaca_secret, api_version = 'v2')"
   ]
  },
  {
   "cell_type": "code",
   "execution_count": 37,
   "metadata": {},
   "outputs": [
    {
     "data": {
      "text/html": [
       "<div>\n",
       "<style scoped>\n",
       "    .dataframe tbody tr th:only-of-type {\n",
       "        vertical-align: middle;\n",
       "    }\n",
       "\n",
       "    .dataframe tbody tr th {\n",
       "        vertical-align: top;\n",
       "    }\n",
       "\n",
       "    .dataframe thead tr th {\n",
       "        text-align: left;\n",
       "    }\n",
       "</style>\n",
       "<table border=\"1\" class=\"dataframe\">\n",
       "  <thead>\n",
       "    <tr>\n",
       "      <th></th>\n",
       "      <th colspan=\"5\" halign=\"left\">AGG</th>\n",
       "      <th colspan=\"5\" halign=\"left\">SPY</th>\n",
       "    </tr>\n",
       "    <tr>\n",
       "      <th></th>\n",
       "      <th>open</th>\n",
       "      <th>high</th>\n",
       "      <th>low</th>\n",
       "      <th>close</th>\n",
       "      <th>volume</th>\n",
       "      <th>open</th>\n",
       "      <th>high</th>\n",
       "      <th>low</th>\n",
       "      <th>close</th>\n",
       "      <th>volume</th>\n",
       "    </tr>\n",
       "  </thead>\n",
       "  <tbody>\n",
       "    <tr>\n",
       "      <th>2020-10-16 00:00:00-04:00</th>\n",
       "      <td>117.99</td>\n",
       "      <td>118.0778</td>\n",
       "      <td>117.88</td>\n",
       "      <td>117.880</td>\n",
       "      <td>3591541</td>\n",
       "      <td>348.96</td>\n",
       "      <td>350.75</td>\n",
       "      <td>347.10</td>\n",
       "      <td>347.25</td>\n",
       "      <td>62796942</td>\n",
       "    </tr>\n",
       "    <tr>\n",
       "      <th>2020-10-19 00:00:00-04:00</th>\n",
       "      <td>117.81</td>\n",
       "      <td>117.8700</td>\n",
       "      <td>117.72</td>\n",
       "      <td>117.787</td>\n",
       "      <td>4231106</td>\n",
       "      <td>348.62</td>\n",
       "      <td>349.33</td>\n",
       "      <td>341.04</td>\n",
       "      <td>342.02</td>\n",
       "      <td>54462156</td>\n",
       "    </tr>\n",
       "  </tbody>\n",
       "</table>\n",
       "</div>"
      ],
      "text/plain": [
       "                              AGG                                         SPY  \\\n",
       "                             open      high     low    close   volume    open   \n",
       "2020-10-16 00:00:00-04:00  117.99  118.0778  117.88  117.880  3591541  348.96   \n",
       "2020-10-19 00:00:00-04:00  117.81  117.8700  117.72  117.787  4231106  348.62   \n",
       "\n",
       "                                                             \n",
       "                             high     low   close    volume  \n",
       "2020-10-16 00:00:00-04:00  350.75  347.10  347.25  62796942  \n",
       "2020-10-19 00:00:00-04:00  349.33  341.04  342.02  54462156  "
      ]
     },
     "execution_count": 37,
     "metadata": {},
     "output_type": "execute_result"
    }
   ],
   "source": [
    "# Format current date as ISO format\n",
    "current_date = pd.Timestamp(\"2020-10-16\", tz=\"America/New_York\").isoformat()\n",
    "\n",
    "# Set the tickers\n",
    "tickers = [\"AGG\", \"SPY\"]\n",
    "\n",
    "# Set timeframe to '1D' for Alpaca API\n",
    "timeframe = \"1D\"\n",
    "\n",
    "# Get current closing prices for SPY and AGG\n",
    "stocks_df = api.get_barset(tickers, timeframe, start = current_date).df\n",
    "\n",
    "# Preview DataFrame\n",
    "stocks_df.head()"
   ]
  },
  {
   "cell_type": "code",
   "execution_count": 38,
   "metadata": {},
   "outputs": [
    {
     "name": "stdout",
     "output_type": "stream",
     "text": [
      "Current AGG closing price: $117.88\n",
      "Current SPY closing price: $347.25\n"
     ]
    }
   ],
   "source": [
    "# Pick AGG and SPY close prices\n",
    "agg_close_price = float(stocks_df['AGG']['close'][0])\n",
    "spy_close_price = float(stocks_df['SPY']['close'][0])\n",
    "\n",
    "# Print AGG and SPY close prices\n",
    "print(f\"Current AGG closing price: ${agg_close_price}\")\n",
    "print(f\"Current SPY closing price: ${spy_close_price}\")"
   ]
  },
  {
   "cell_type": "code",
   "execution_count": 39,
   "metadata": {},
   "outputs": [
    {
     "name": "stdout",
     "output_type": "stream",
     "text": [
      "The current value of your 50 SPY shares is $17362.50\n",
      "The current value of your 200 AGG shares is $23576.00\n"
     ]
    }
   ],
   "source": [
    "# Compute the current value of shares\n",
    "my_spy_value = my_spy*spy_close_price\n",
    "my_agg_value = my_agg*agg_close_price\n",
    "\n",
    "# Print current value of share\n",
    "print(f\"The current value of your {my_spy} SPY shares is ${my_spy_value:0.2f}\")\n",
    "print(f\"The current value of your {my_agg} AGG shares is ${my_agg_value:0.2f}\")"
   ]
  },
  {
   "cell_type": "markdown",
   "metadata": {},
   "source": [
    "### Savings Health Analysis"
   ]
  },
  {
   "cell_type": "code",
   "execution_count": 40,
   "metadata": {},
   "outputs": [
    {
     "data": {
      "text/html": [
       "<div>\n",
       "<style scoped>\n",
       "    .dataframe tbody tr th:only-of-type {\n",
       "        vertical-align: middle;\n",
       "    }\n",
       "\n",
       "    .dataframe tbody tr th {\n",
       "        vertical-align: top;\n",
       "    }\n",
       "\n",
       "    .dataframe thead th {\n",
       "        text-align: right;\n",
       "    }\n",
       "</style>\n",
       "<table border=\"1\" class=\"dataframe\">\n",
       "  <thead>\n",
       "    <tr style=\"text-align: right;\">\n",
       "      <th></th>\n",
       "      <th>amount</th>\n",
       "    </tr>\n",
       "  </thead>\n",
       "  <tbody>\n",
       "    <tr>\n",
       "      <th>crypto</th>\n",
       "      <td>15411.795</td>\n",
       "    </tr>\n",
       "    <tr>\n",
       "      <th>shares</th>\n",
       "      <td>40938.500</td>\n",
       "    </tr>\n",
       "  </tbody>\n",
       "</table>\n",
       "</div>"
      ],
      "text/plain": [
       "           amount\n",
       "crypto  15411.795\n",
       "shares  40938.500"
      ]
     },
     "metadata": {},
     "output_type": "display_data"
    }
   ],
   "source": [
    "# Set monthly household income\n",
    "monthly_income = 12000\n",
    "\n",
    "# Create savings DataFrame\n",
    "total_bitcoin = my_btc_value + my_eth_value\n",
    "total_shares = my_spy_value + my_agg_value\n",
    "data = {\"amount\":[total_bitcoin, total_shares]}\n",
    "df_savings = pd.DataFrame(data, index = [\"crypto\", \"shares\"])\n",
    "\n",
    "# Display savings DataFrame\n",
    "display(df_savings)"
   ]
  },
  {
   "cell_type": "code",
   "execution_count": 41,
   "metadata": {},
   "outputs": [
    {
     "data": {
      "image/png": "[encoded data removed]",
      "text/plain": [
       "<Figure size 432x288 with 1 Axes>"
      ]
     },
     "metadata": {},
     "output_type": "display_data"
    }
   ],
   "source": [
    "# Plot savings pie chart\n",
    "pie_savings = df_savings.plot(kind = 'pie', y = 'amount', title = 'Composition of Personal Savings')"
   ]
  },
  {
   "cell_type": "code",
   "execution_count": 42,
   "metadata": {},
   "outputs": [
    {
     "name": "stdout",
     "output_type": "stream",
     "text": [
      "Congratulations on having enough money for this fund!\n"
     ]
    }
   ],
   "source": [
    "# Set ideal emergency fund\n",
    "emergency_fund = monthly_income * 3\n",
    "\n",
    "# Calculate total amount of savings\n",
    "savings = df_savings['amount'].sum()\n",
    "\n",
    "difference = emergency_fund - savings\n",
    "# Validate saving health\n",
    "if savings > emergency_fund:\n",
    "      print(f'Congratulations on having enough money for this fund!')\n",
    "elif savings == emergency_fund:\n",
    "     print(f'Congratulations on reaching this financial goal!')\n",
    "elif savings < emergency_fund:\n",
    "    print(f'You are {difference} away from reaching your goal')"
   ]
  },
  {
   "cell_type": "markdown",
   "metadata": {},
   "source": [
    "## Part 2 - Retirement Planning\n",
    "\n",
    "### Monte Carlo Simulation"
   ]
  },
  {
   "cell_type": "code",
   "execution_count": 43,
   "metadata": {},
   "outputs": [],
   "source": [
    "# Set start and end dates of five years back from today.\n",
    "# Sample results may vary from the solution based on the time frame chosen\n",
    "start_date = pd.Timestamp('2015-10-16', tz='America/New_York').isoformat()\n",
    "end_date = pd.Timestamp('2020-10-16', tz='America/New_York').isoformat()"
   ]
  },
  {
   "cell_type": "code",
   "execution_count": 44,
   "metadata": {},
   "outputs": [
    {
     "data": {
      "text/html": [
       "<div>\n",
       "<style scoped>\n",
       "    .dataframe tbody tr th:only-of-type {\n",
       "        vertical-align: middle;\n",
       "    }\n",
       "\n",
       "    .dataframe tbody tr th {\n",
       "        vertical-align: top;\n",
       "    }\n",
       "\n",
       "    .dataframe thead tr th {\n",
       "        text-align: left;\n",
       "    }\n",
       "</style>\n",
       "<table border=\"1\" class=\"dataframe\">\n",
       "  <thead>\n",
       "    <tr>\n",
       "      <th></th>\n",
       "      <th colspan=\"5\" halign=\"left\">AGG</th>\n",
       "      <th colspan=\"5\" halign=\"left\">SPY</th>\n",
       "    </tr>\n",
       "    <tr>\n",
       "      <th></th>\n",
       "      <th>open</th>\n",
       "      <th>high</th>\n",
       "      <th>low</th>\n",
       "      <th>close</th>\n",
       "      <th>volume</th>\n",
       "      <th>open</th>\n",
       "      <th>high</th>\n",
       "      <th>low</th>\n",
       "      <th>close</th>\n",
       "      <th>volume</th>\n",
       "    </tr>\n",
       "  </thead>\n",
       "  <tbody>\n",
       "    <tr>\n",
       "      <th>2015-10-16 00:00:00-04:00</th>\n",
       "      <td>109.90</td>\n",
       "      <td>109.940</td>\n",
       "      <td>109.78</td>\n",
       "      <td>109.78</td>\n",
       "      <td>1497588.0</td>\n",
       "      <td>202.83</td>\n",
       "      <td>203.29</td>\n",
       "      <td>201.9200</td>\n",
       "      <td>203.14</td>\n",
       "      <td>79323870</td>\n",
       "    </tr>\n",
       "    <tr>\n",
       "      <th>2015-10-19 00:00:00-04:00</th>\n",
       "      <td>109.78</td>\n",
       "      <td>109.895</td>\n",
       "      <td>109.65</td>\n",
       "      <td>109.85</td>\n",
       "      <td>1289942.0</td>\n",
       "      <td>202.50</td>\n",
       "      <td>203.37</td>\n",
       "      <td>202.1300</td>\n",
       "      <td>203.33</td>\n",
       "      <td>61255929</td>\n",
       "    </tr>\n",
       "    <tr>\n",
       "      <th>2015-10-20 00:00:00-04:00</th>\n",
       "      <td>109.64</td>\n",
       "      <td>109.780</td>\n",
       "      <td>109.55</td>\n",
       "      <td>109.65</td>\n",
       "      <td>1672562.0</td>\n",
       "      <td>202.85</td>\n",
       "      <td>203.84</td>\n",
       "      <td>202.5471</td>\n",
       "      <td>203.07</td>\n",
       "      <td>60081395</td>\n",
       "    </tr>\n",
       "    <tr>\n",
       "      <th>2015-10-21 00:00:00-04:00</th>\n",
       "      <td>109.73</td>\n",
       "      <td>109.950</td>\n",
       "      <td>109.73</td>\n",
       "      <td>109.89</td>\n",
       "      <td>1119723.0</td>\n",
       "      <td>203.61</td>\n",
       "      <td>203.79</td>\n",
       "      <td>201.6500</td>\n",
       "      <td>201.82</td>\n",
       "      <td>83704739</td>\n",
       "    </tr>\n",
       "    <tr>\n",
       "      <th>2015-10-22 00:00:00-04:00</th>\n",
       "      <td>109.90</td>\n",
       "      <td>110.050</td>\n",
       "      <td>109.83</td>\n",
       "      <td>109.94</td>\n",
       "      <td>1817244.0</td>\n",
       "      <td>202.98</td>\n",
       "      <td>205.51</td>\n",
       "      <td>202.8100</td>\n",
       "      <td>205.22</td>\n",
       "      <td>121670959</td>\n",
       "    </tr>\n",
       "  </tbody>\n",
       "</table>\n",
       "</div>"
      ],
      "text/plain": [
       "                              AGG                                         SPY  \\\n",
       "                             open     high     low   close     volume    open   \n",
       "2015-10-16 00:00:00-04:00  109.90  109.940  109.78  109.78  1497588.0  202.83   \n",
       "2015-10-19 00:00:00-04:00  109.78  109.895  109.65  109.85  1289942.0  202.50   \n",
       "2015-10-20 00:00:00-04:00  109.64  109.780  109.55  109.65  1672562.0  202.85   \n",
       "2015-10-21 00:00:00-04:00  109.73  109.950  109.73  109.89  1119723.0  203.61   \n",
       "2015-10-22 00:00:00-04:00  109.90  110.050  109.83  109.94  1817244.0  202.98   \n",
       "\n",
       "                                                                \n",
       "                             high       low   close     volume  \n",
       "2015-10-16 00:00:00-04:00  203.29  201.9200  203.14   79323870  \n",
       "2015-10-19 00:00:00-04:00  203.37  202.1300  203.33   61255929  \n",
       "2015-10-20 00:00:00-04:00  203.84  202.5471  203.07   60081395  \n",
       "2015-10-21 00:00:00-04:00  203.79  201.6500  201.82   83704739  \n",
       "2015-10-22 00:00:00-04:00  205.51  202.8100  205.22  121670959  "
      ]
     },
     "execution_count": 44,
     "metadata": {},
     "output_type": "execute_result"
    }
   ],
   "source": [
    "# Get 5 years' worth of historical data for SPY and AGG\n",
    "df_stock_data = api.get_barset(tickers, timeframe, start = start_date , end = end_date).df\n",
    "\n",
    "# Display sample data\n",
    "df_stock_data.head()"
   ]
  },
  {
   "cell_type": "code",
   "execution_count": 45,
   "metadata": {},
   "outputs": [],
   "source": [
    "# Configuring a Monte Carlo simulation to forecast 30 years cumulative returns\n",
    "MC_stocks = MCSimulation(\n",
    "    portfolio_data = df_stock_data,\n",
    "    weights = [0.4,0.6],\n",
    "   num_simulation = 500,\n",
    "    num_trading_days = 252*30)"
   ]
  },
  {
   "cell_type": "code",
   "execution_count": 46,
   "metadata": {},
   "outputs": [
    {
     "data": {
      "text/html": [
       "<div>\n",
       "<style scoped>\n",
       "    .dataframe tbody tr th:only-of-type {\n",
       "        vertical-align: middle;\n",
       "    }\n",
       "\n",
       "    .dataframe tbody tr th {\n",
       "        vertical-align: top;\n",
       "    }\n",
       "\n",
       "    .dataframe thead tr th {\n",
       "        text-align: left;\n",
       "    }\n",
       "</style>\n",
       "<table border=\"1\" class=\"dataframe\">\n",
       "  <thead>\n",
       "    <tr>\n",
       "      <th></th>\n",
       "      <th colspan=\"6\" halign=\"left\">AGG</th>\n",
       "      <th colspan=\"6\" halign=\"left\">SPY</th>\n",
       "    </tr>\n",
       "    <tr>\n",
       "      <th></th>\n",
       "      <th>open</th>\n",
       "      <th>high</th>\n",
       "      <th>low</th>\n",
       "      <th>close</th>\n",
       "      <th>volume</th>\n",
       "      <th>daily_return</th>\n",
       "      <th>open</th>\n",
       "      <th>high</th>\n",
       "      <th>low</th>\n",
       "      <th>close</th>\n",
       "      <th>volume</th>\n",
       "      <th>daily_return</th>\n",
       "    </tr>\n",
       "  </thead>\n",
       "  <tbody>\n",
       "    <tr>\n",
       "      <th>2015-10-16 00:00:00-04:00</th>\n",
       "      <td>109.90</td>\n",
       "      <td>109.940</td>\n",
       "      <td>109.78</td>\n",
       "      <td>109.78</td>\n",
       "      <td>1497588.0</td>\n",
       "      <td>NaN</td>\n",
       "      <td>202.83</td>\n",
       "      <td>203.29</td>\n",
       "      <td>201.9200</td>\n",
       "      <td>203.14</td>\n",
       "      <td>79323870</td>\n",
       "      <td>NaN</td>\n",
       "    </tr>\n",
       "    <tr>\n",
       "      <th>2015-10-19 00:00:00-04:00</th>\n",
       "      <td>109.78</td>\n",
       "      <td>109.895</td>\n",
       "      <td>109.65</td>\n",
       "      <td>109.85</td>\n",
       "      <td>1289942.0</td>\n",
       "      <td>0.000638</td>\n",
       "      <td>202.50</td>\n",
       "      <td>203.37</td>\n",
       "      <td>202.1300</td>\n",
       "      <td>203.33</td>\n",
       "      <td>61255929</td>\n",
       "      <td>0.000935</td>\n",
       "    </tr>\n",
       "    <tr>\n",
       "      <th>2015-10-20 00:00:00-04:00</th>\n",
       "      <td>109.64</td>\n",
       "      <td>109.780</td>\n",
       "      <td>109.55</td>\n",
       "      <td>109.65</td>\n",
       "      <td>1672562.0</td>\n",
       "      <td>-0.001821</td>\n",
       "      <td>202.85</td>\n",
       "      <td>203.84</td>\n",
       "      <td>202.5471</td>\n",
       "      <td>203.07</td>\n",
       "      <td>60081395</td>\n",
       "      <td>-0.001279</td>\n",
       "    </tr>\n",
       "    <tr>\n",
       "      <th>2015-10-21 00:00:00-04:00</th>\n",
       "      <td>109.73</td>\n",
       "      <td>109.950</td>\n",
       "      <td>109.73</td>\n",
       "      <td>109.89</td>\n",
       "      <td>1119723.0</td>\n",
       "      <td>0.002189</td>\n",
       "      <td>203.61</td>\n",
       "      <td>203.79</td>\n",
       "      <td>201.6500</td>\n",
       "      <td>201.82</td>\n",
       "      <td>83704739</td>\n",
       "      <td>-0.006156</td>\n",
       "    </tr>\n",
       "    <tr>\n",
       "      <th>2015-10-22 00:00:00-04:00</th>\n",
       "      <td>109.90</td>\n",
       "      <td>110.050</td>\n",
       "      <td>109.83</td>\n",
       "      <td>109.94</td>\n",
       "      <td>1817244.0</td>\n",
       "      <td>0.000455</td>\n",
       "      <td>202.98</td>\n",
       "      <td>205.51</td>\n",
       "      <td>202.8100</td>\n",
       "      <td>205.22</td>\n",
       "      <td>121670959</td>\n",
       "      <td>0.016847</td>\n",
       "    </tr>\n",
       "  </tbody>\n",
       "</table>\n",
       "</div>"
      ],
      "text/plain": [
       "                              AGG                                      \\\n",
       "                             open     high     low   close     volume   \n",
       "2015-10-16 00:00:00-04:00  109.90  109.940  109.78  109.78  1497588.0   \n",
       "2015-10-19 00:00:00-04:00  109.78  109.895  109.65  109.85  1289942.0   \n",
       "2015-10-20 00:00:00-04:00  109.64  109.780  109.55  109.65  1672562.0   \n",
       "2015-10-21 00:00:00-04:00  109.73  109.950  109.73  109.89  1119723.0   \n",
       "2015-10-22 00:00:00-04:00  109.90  110.050  109.83  109.94  1817244.0   \n",
       "\n",
       "                                           SPY                            \\\n",
       "                          daily_return    open    high       low   close   \n",
       "2015-10-16 00:00:00-04:00          NaN  202.83  203.29  201.9200  203.14   \n",
       "2015-10-19 00:00:00-04:00     0.000638  202.50  203.37  202.1300  203.33   \n",
       "2015-10-20 00:00:00-04:00    -0.001821  202.85  203.84  202.5471  203.07   \n",
       "2015-10-21 00:00:00-04:00     0.002189  203.61  203.79  201.6500  201.82   \n",
       "2015-10-22 00:00:00-04:00     0.000455  202.98  205.51  202.8100  205.22   \n",
       "\n",
       "                                                   \n",
       "                              volume daily_return  \n",
       "2015-10-16 00:00:00-04:00   79323870          NaN  \n",
       "2015-10-19 00:00:00-04:00   61255929     0.000935  \n",
       "2015-10-20 00:00:00-04:00   60081395    -0.001279  \n",
       "2015-10-21 00:00:00-04:00   83704739    -0.006156  \n",
       "2015-10-22 00:00:00-04:00  121670959     0.016847  "
      ]
     },
     "execution_count": 46,
     "metadata": {},
     "output_type": "execute_result"
    }
   ],
   "source": [
    "# Printing the simulation input data\n",
    "MC_stocks.portfolio_data.head()"
   ]
  },
  {
   "cell_type": "code",
   "execution_count": 53,
   "metadata": {},
   "outputs": [
    {
     "name": "stdout",
     "output_type": "stream",
     "text": [
      "Running Monte Carlo simulation number 0.\n",
      "Running Monte Carlo simulation number 10.\n",
      "Running Monte Carlo simulation number 20.\n",
      "Running Monte Carlo simulation number 30.\n",
      "Running Monte Carlo simulation number 40.\n",
      "Running Monte Carlo simulation number 50.\n",
      "Running Monte Carlo simulation number 60.\n",
      "Running Monte Carlo simulation number 70.\n",
      "Running Monte Carlo simulation number 80.\n",
      "Running Monte Carlo simulation number 90.\n",
      "Running Monte Carlo simulation number 100.\n",
      "Running Monte Carlo simulation number 110.\n",
      "Running Monte Carlo simulation number 120.\n",
      "Running Monte Carlo simulation number 130.\n",
      "Running Monte Carlo simulation number 140.\n",
      "Running Monte Carlo simulation number 150.\n",
      "Running Monte Carlo simulation number 160.\n",
      "Running Monte Carlo simulation number 170.\n",
      "Running Monte Carlo simulation number 180.\n",
      "Running Monte Carlo simulation number 190.\n",
      "Running Monte Carlo simulation number 200.\n",
      "Running Monte Carlo simulation number 210.\n",
      "Running Monte Carlo simulation number 220.\n",
      "Running Monte Carlo simulation number 230.\n",
      "Running Monte Carlo simulation number 240.\n",
      "Running Monte Carlo simulation number 250.\n",
      "Running Monte Carlo simulation number 260.\n",
      "Running Monte Carlo simulation number 270.\n",
      "Running Monte Carlo simulation number 280.\n",
      "Running Monte Carlo simulation number 290.\n",
      "Running Monte Carlo simulation number 300.\n",
      "Running Monte Carlo simulation number 310.\n",
      "Running Monte Carlo simulation number 320.\n",
      "Running Monte Carlo simulation number 330.\n",
      "Running Monte Carlo simulation number 340.\n",
      "Running Monte Carlo simulation number 350.\n",
      "Running Monte Carlo simulation number 360.\n",
      "Running Monte Carlo simulation number 370.\n",
      "Running Monte Carlo simulation number 380.\n",
      "Running Monte Carlo simulation number 390.\n",
      "Running Monte Carlo simulation number 400.\n",
      "Running Monte Carlo simulation number 410.\n",
      "Running Monte Carlo simulation number 420.\n",
      "Running Monte Carlo simulation number 430.\n",
      "Running Monte Carlo simulation number 440.\n",
      "Running Monte Carlo simulation number 450.\n",
      "Running Monte Carlo simulation number 460.\n",
      "Running Monte Carlo simulation number 470.\n",
      "Running Monte Carlo simulation number 480.\n",
      "Running Monte Carlo simulation number 490.\n"
     ]
    },
    {
     "data": {
      "text/html": [
       "<div>\n",
       "<style scoped>\n",
       "    .dataframe tbody tr th:only-of-type {\n",
       "        vertical-align: middle;\n",
       "    }\n",
       "\n",
       "    .dataframe tbody tr th {\n",
       "        vertical-align: top;\n",
       "    }\n",
       "\n",
       "    .dataframe thead th {\n",
       "        text-align: right;\n",
       "    }\n",
       "</style>\n",
       "<table border=\"1\" class=\"dataframe\">\n",
       "  <thead>\n",
       "    <tr style=\"text-align: right;\">\n",
       "      <th></th>\n",
       "      <th>0</th>\n",
       "      <th>1</th>\n",
       "      <th>2</th>\n",
       "      <th>3</th>\n",
       "      <th>4</th>\n",
       "      <th>5</th>\n",
       "      <th>6</th>\n",
       "      <th>7</th>\n",
       "      <th>8</th>\n",
       "      <th>9</th>\n",
       "      <th>...</th>\n",
       "      <th>490</th>\n",
       "      <th>491</th>\n",
       "      <th>492</th>\n",
       "      <th>493</th>\n",
       "      <th>494</th>\n",
       "      <th>495</th>\n",
       "      <th>496</th>\n",
       "      <th>497</th>\n",
       "      <th>498</th>\n",
       "      <th>499</th>\n",
       "    </tr>\n",
       "  </thead>\n",
       "  <tbody>\n",
       "    <tr>\n",
       "      <th>0</th>\n",
       "      <td>1.000000</td>\n",
       "      <td>1.000000</td>\n",
       "      <td>1.000000</td>\n",
       "      <td>1.000000</td>\n",
       "      <td>1.000000</td>\n",
       "      <td>1.000000</td>\n",
       "      <td>1.000000</td>\n",
       "      <td>1.000000</td>\n",
       "      <td>1.000000</td>\n",
       "      <td>1.000000</td>\n",
       "      <td>...</td>\n",
       "      <td>1.000000</td>\n",
       "      <td>1.000000</td>\n",
       "      <td>1.000000</td>\n",
       "      <td>1.000000</td>\n",
       "      <td>1.000000</td>\n",
       "      <td>1.000000</td>\n",
       "      <td>1.000000</td>\n",
       "      <td>1.000000</td>\n",
       "      <td>1.000000</td>\n",
       "      <td>1.000000</td>\n",
       "    </tr>\n",
       "    <tr>\n",
       "      <th>1</th>\n",
       "      <td>1.005276</td>\n",
       "      <td>1.004727</td>\n",
       "      <td>1.008255</td>\n",
       "      <td>1.000760</td>\n",
       "      <td>0.996128</td>\n",
       "      <td>0.990580</td>\n",
       "      <td>1.004046</td>\n",
       "      <td>1.000036</td>\n",
       "      <td>1.007438</td>\n",
       "      <td>0.988822</td>\n",
       "      <td>...</td>\n",
       "      <td>1.011175</td>\n",
       "      <td>0.995474</td>\n",
       "      <td>0.998452</td>\n",
       "      <td>0.991558</td>\n",
       "      <td>1.003817</td>\n",
       "      <td>1.001931</td>\n",
       "      <td>0.999987</td>\n",
       "      <td>0.992882</td>\n",
       "      <td>0.984189</td>\n",
       "      <td>1.009132</td>\n",
       "    </tr>\n",
       "    <tr>\n",
       "      <th>2</th>\n",
       "      <td>1.017928</td>\n",
       "      <td>0.996468</td>\n",
       "      <td>1.011805</td>\n",
       "      <td>0.993446</td>\n",
       "      <td>1.005484</td>\n",
       "      <td>0.992938</td>\n",
       "      <td>1.005747</td>\n",
       "      <td>1.011021</td>\n",
       "      <td>1.013618</td>\n",
       "      <td>0.984300</td>\n",
       "      <td>...</td>\n",
       "      <td>1.007845</td>\n",
       "      <td>0.997804</td>\n",
       "      <td>0.987867</td>\n",
       "      <td>0.992264</td>\n",
       "      <td>0.997751</td>\n",
       "      <td>0.991940</td>\n",
       "      <td>1.008509</td>\n",
       "      <td>0.999528</td>\n",
       "      <td>0.981952</td>\n",
       "      <td>1.021785</td>\n",
       "    </tr>\n",
       "    <tr>\n",
       "      <th>3</th>\n",
       "      <td>1.043218</td>\n",
       "      <td>0.997377</td>\n",
       "      <td>1.020094</td>\n",
       "      <td>0.978360</td>\n",
       "      <td>1.003258</td>\n",
       "      <td>1.001678</td>\n",
       "      <td>1.013550</td>\n",
       "      <td>1.005252</td>\n",
       "      <td>1.006836</td>\n",
       "      <td>0.995904</td>\n",
       "      <td>...</td>\n",
       "      <td>1.025545</td>\n",
       "      <td>0.994872</td>\n",
       "      <td>0.988746</td>\n",
       "      <td>0.981637</td>\n",
       "      <td>0.991941</td>\n",
       "      <td>0.982050</td>\n",
       "      <td>1.000000</td>\n",
       "      <td>0.988120</td>\n",
       "      <td>0.970264</td>\n",
       "      <td>1.012381</td>\n",
       "    </tr>\n",
       "    <tr>\n",
       "      <th>4</th>\n",
       "      <td>1.038817</td>\n",
       "      <td>1.003598</td>\n",
       "      <td>1.017646</td>\n",
       "      <td>0.989555</td>\n",
       "      <td>0.997274</td>\n",
       "      <td>0.991055</td>\n",
       "      <td>1.016815</td>\n",
       "      <td>1.010023</td>\n",
       "      <td>1.002053</td>\n",
       "      <td>0.982142</td>\n",
       "      <td>...</td>\n",
       "      <td>1.016238</td>\n",
       "      <td>0.990563</td>\n",
       "      <td>1.000350</td>\n",
       "      <td>0.970409</td>\n",
       "      <td>0.986321</td>\n",
       "      <td>0.987420</td>\n",
       "      <td>1.011594</td>\n",
       "      <td>0.986962</td>\n",
       "      <td>0.973755</td>\n",
       "      <td>1.018814</td>\n",
       "    </tr>\n",
       "    <tr>\n",
       "      <th>...</th>\n",
       "      <td>...</td>\n",
       "      <td>...</td>\n",
       "      <td>...</td>\n",
       "      <td>...</td>\n",
       "      <td>...</td>\n",
       "      <td>...</td>\n",
       "      <td>...</td>\n",
       "      <td>...</td>\n",
       "      <td>...</td>\n",
       "      <td>...</td>\n",
       "      <td>...</td>\n",
       "      <td>...</td>\n",
       "      <td>...</td>\n",
       "      <td>...</td>\n",
       "      <td>...</td>\n",
       "      <td>...</td>\n",
       "      <td>...</td>\n",
       "      <td>...</td>\n",
       "      <td>...</td>\n",
       "      <td>...</td>\n",
       "      <td>...</td>\n",
       "    </tr>\n",
       "    <tr>\n",
       "      <th>7556</th>\n",
       "      <td>6.327609</td>\n",
       "      <td>8.344223</td>\n",
       "      <td>8.906488</td>\n",
       "      <td>8.128235</td>\n",
       "      <td>2.757957</td>\n",
       "      <td>14.623806</td>\n",
       "      <td>11.367941</td>\n",
       "      <td>1.550799</td>\n",
       "      <td>12.557216</td>\n",
       "      <td>3.843898</td>\n",
       "      <td>...</td>\n",
       "      <td>7.808282</td>\n",
       "      <td>16.395857</td>\n",
       "      <td>2.117404</td>\n",
       "      <td>8.748764</td>\n",
       "      <td>17.801463</td>\n",
       "      <td>6.854679</td>\n",
       "      <td>7.277476</td>\n",
       "      <td>3.845454</td>\n",
       "      <td>23.618470</td>\n",
       "      <td>25.382430</td>\n",
       "    </tr>\n",
       "    <tr>\n",
       "      <th>7557</th>\n",
       "      <td>6.349865</td>\n",
       "      <td>8.416864</td>\n",
       "      <td>8.939073</td>\n",
       "      <td>8.115907</td>\n",
       "      <td>2.762945</td>\n",
       "      <td>14.573127</td>\n",
       "      <td>11.365316</td>\n",
       "      <td>1.527527</td>\n",
       "      <td>12.515361</td>\n",
       "      <td>3.856559</td>\n",
       "      <td>...</td>\n",
       "      <td>7.851083</td>\n",
       "      <td>16.453389</td>\n",
       "      <td>2.115503</td>\n",
       "      <td>8.731776</td>\n",
       "      <td>17.570415</td>\n",
       "      <td>6.877459</td>\n",
       "      <td>7.364487</td>\n",
       "      <td>3.811671</td>\n",
       "      <td>23.574613</td>\n",
       "      <td>25.402050</td>\n",
       "    </tr>\n",
       "    <tr>\n",
       "      <th>7558</th>\n",
       "      <td>6.409232</td>\n",
       "      <td>8.457188</td>\n",
       "      <td>8.942618</td>\n",
       "      <td>8.106120</td>\n",
       "      <td>2.760036</td>\n",
       "      <td>14.554692</td>\n",
       "      <td>11.399136</td>\n",
       "      <td>1.521587</td>\n",
       "      <td>12.434932</td>\n",
       "      <td>3.859617</td>\n",
       "      <td>...</td>\n",
       "      <td>7.847475</td>\n",
       "      <td>16.509948</td>\n",
       "      <td>2.098950</td>\n",
       "      <td>8.736693</td>\n",
       "      <td>17.832332</td>\n",
       "      <td>6.849488</td>\n",
       "      <td>7.414837</td>\n",
       "      <td>3.783337</td>\n",
       "      <td>23.760492</td>\n",
       "      <td>25.636085</td>\n",
       "    </tr>\n",
       "    <tr>\n",
       "      <th>7559</th>\n",
       "      <td>6.513791</td>\n",
       "      <td>8.521852</td>\n",
       "      <td>8.942208</td>\n",
       "      <td>7.992123</td>\n",
       "      <td>2.774192</td>\n",
       "      <td>14.491679</td>\n",
       "      <td>11.290835</td>\n",
       "      <td>1.522895</td>\n",
       "      <td>12.478821</td>\n",
       "      <td>3.876849</td>\n",
       "      <td>...</td>\n",
       "      <td>7.805608</td>\n",
       "      <td>16.377217</td>\n",
       "      <td>2.108402</td>\n",
       "      <td>8.728724</td>\n",
       "      <td>17.812139</td>\n",
       "      <td>6.784855</td>\n",
       "      <td>7.321525</td>\n",
       "      <td>3.775011</td>\n",
       "      <td>23.668448</td>\n",
       "      <td>25.512887</td>\n",
       "    </tr>\n",
       "    <tr>\n",
       "      <th>7560</th>\n",
       "      <td>6.485291</td>\n",
       "      <td>8.554779</td>\n",
       "      <td>9.033175</td>\n",
       "      <td>8.014348</td>\n",
       "      <td>2.812830</td>\n",
       "      <td>14.630751</td>\n",
       "      <td>11.151939</td>\n",
       "      <td>1.537741</td>\n",
       "      <td>12.636774</td>\n",
       "      <td>3.897300</td>\n",
       "      <td>...</td>\n",
       "      <td>7.866838</td>\n",
       "      <td>16.496076</td>\n",
       "      <td>2.112461</td>\n",
       "      <td>8.701570</td>\n",
       "      <td>18.000101</td>\n",
       "      <td>6.785504</td>\n",
       "      <td>7.270742</td>\n",
       "      <td>3.769641</td>\n",
       "      <td>23.891046</td>\n",
       "      <td>25.614592</td>\n",
       "    </tr>\n",
       "  </tbody>\n",
       "</table>\n",
       "<p>7561 rows × 500 columns</p>\n",
       "</div>"
      ],
      "text/plain": [
       "           0         1         2         3         4          5          6    \\\n",
       "0     1.000000  1.000000  1.000000  1.000000  1.000000   1.000000   1.000000   \n",
       "1     1.005276  1.004727  1.008255  1.000760  0.996128   0.990580   1.004046   \n",
       "2     1.017928  0.996468  1.011805  0.993446  1.005484   0.992938   1.005747   \n",
       "3     1.043218  0.997377  1.020094  0.978360  1.003258   1.001678   1.013550   \n",
       "4     1.038817  1.003598  1.017646  0.989555  0.997274   0.991055   1.016815   \n",
       "...        ...       ...       ...       ...       ...        ...        ...   \n",
       "7556  6.327609  8.344223  8.906488  8.128235  2.757957  14.623806  11.367941   \n",
       "7557  6.349865  8.416864  8.939073  8.115907  2.762945  14.573127  11.365316   \n",
       "7558  6.409232  8.457188  8.942618  8.106120  2.760036  14.554692  11.399136   \n",
       "7559  6.513791  8.521852  8.942208  7.992123  2.774192  14.491679  11.290835   \n",
       "7560  6.485291  8.554779  9.033175  8.014348  2.812830  14.630751  11.151939   \n",
       "\n",
       "           7          8         9    ...       490        491       492  \\\n",
       "0     1.000000   1.000000  1.000000  ...  1.000000   1.000000  1.000000   \n",
       "1     1.000036   1.007438  0.988822  ...  1.011175   0.995474  0.998452   \n",
       "2     1.011021   1.013618  0.984300  ...  1.007845   0.997804  0.987867   \n",
       "3     1.005252   1.006836  0.995904  ...  1.025545   0.994872  0.988746   \n",
       "4     1.010023   1.002053  0.982142  ...  1.016238   0.990563  1.000350   \n",
       "...        ...        ...       ...  ...       ...        ...       ...   \n",
       "7556  1.550799  12.557216  3.843898  ...  7.808282  16.395857  2.117404   \n",
       "7557  1.527527  12.515361  3.856559  ...  7.851083  16.453389  2.115503   \n",
       "7558  1.521587  12.434932  3.859617  ...  7.847475  16.509948  2.098950   \n",
       "7559  1.522895  12.478821  3.876849  ...  7.805608  16.377217  2.108402   \n",
       "7560  1.537741  12.636774  3.897300  ...  7.866838  16.496076  2.112461   \n",
       "\n",
       "           493        494       495       496       497        498        499  \n",
       "0     1.000000   1.000000  1.000000  1.000000  1.000000   1.000000   1.000000  \n",
       "1     0.991558   1.003817  1.001931  0.999987  0.992882   0.984189   1.009132  \n",
       "2     0.992264   0.997751  0.991940  1.008509  0.999528   0.981952   1.021785  \n",
       "3     0.981637   0.991941  0.982050  1.000000  0.988120   0.970264   1.012381  \n",
       "4     0.970409   0.986321  0.987420  1.011594  0.986962   0.973755   1.018814  \n",
       "...        ...        ...       ...       ...       ...        ...        ...  \n",
       "7556  8.748764  17.801463  6.854679  7.277476  3.845454  23.618470  25.382430  \n",
       "7557  8.731776  17.570415  6.877459  7.364487  3.811671  23.574613  25.402050  \n",
       "7558  8.736693  17.832332  6.849488  7.414837  3.783337  23.760492  25.636085  \n",
       "7559  8.728724  17.812139  6.784855  7.321525  3.775011  23.668448  25.512887  \n",
       "7560  8.701570  18.000101  6.785504  7.270742  3.769641  23.891046  25.614592  \n",
       "\n",
       "[7561 rows x 500 columns]"
      ]
     },
     "execution_count": 53,
     "metadata": {},
     "output_type": "execute_result"
    }
   ],
   "source": [
    "# Running a Monte Carlo simulation to forecast 30 years cumulative returns\n",
    "MC_stocks.calc_cumulative_return()"
   ]
  },
  {
   "cell_type": "code",
   "execution_count": 56,
   "metadata": {},
   "outputs": [
    {
     "data": {
      "image/png": "[encoded data removed]",
      "text/plain": [
       "<Figure size 432x288 with 1 Axes>"
      ]
     },
     "metadata": {
      "needs_background": "light"
     },
     "output_type": "display_data"
    }
   ],
   "source": [
    "# Plot simulation outcomes\n",
    "MC_plot = MC_stocks.plot_simulation()"
   ]
  },
  {
   "cell_type": "code",
   "execution_count": 57,
   "metadata": {},
   "outputs": [
    {
     "data": {
      "image/png": "[encoded data removed]",
      "text/plain": [
       "<Figure size 432x288 with 1 Axes>"
      ]
     },
     "metadata": {
      "needs_background": "light"
     },
     "output_type": "display_data"
    }
   ],
   "source": [
    "# Plot probability distribution and confidence intervals\n",
    "MC_dist = MC_stocks.plot_distribution()"
   ]
  },
  {
   "cell_type": "markdown",
   "metadata": {},
   "source": [
    "### Retirement Analysis"
   ]
  },
  {
   "cell_type": "code",
   "execution_count": 58,
   "metadata": {},
   "outputs": [
    {
     "name": "stdout",
     "output_type": "stream",
     "text": [
      "count           500.000000\n",
      "mean             11.378085\n",
      "std               7.729597\n",
      "min               1.455040\n",
      "25%               6.266466\n",
      "50%               9.223754\n",
      "75%              13.885415\n",
      "max              53.770280\n",
      "95% CI Lower      2.728497\n",
      "95% CI Upper     32.423484\n",
      "Name: 7560, dtype: float64\n"
     ]
    }
   ],
   "source": [
    "# Fetch summary statistics from the Monte Carlo simulation results\n",
    "tbl = MC_stocks.summarize_cumulative_return()\n",
    "\n",
    "# Print summary statistics\n",
    "print(tbl)"
   ]
  },
  {
   "cell_type": "markdown",
   "metadata": {},
   "source": [
    "### Calculate the expected portfolio return at the 95% lower and upper confidence intervals based on a `$20,000` initial investment."
   ]
  },
  {
   "cell_type": "code",
   "execution_count": 59,
   "metadata": {},
   "outputs": [
    {
     "name": "stdout",
     "output_type": "stream",
     "text": [
      "There is a 95% chance that an initial investment of $20000 in the portfolio over the next 30 years will end within in the range of $54569.93 and $648469.67\n"
     ]
    }
   ],
   "source": [
    "# Set initial investment\n",
    "initial_investment = 20000\n",
    "\n",
    "# Use the lower and upper `95%` confidence intervals to calculate the range of the possible outcomes of our $20,000\n",
    "ci_lower = round(initial_investment * tbl[8],2)\n",
    "ci_upper = round(initial_investment * tbl[9],2)\n",
    "\n",
    "# Print results\n",
    "print(f\"There is a 95% chance that an initial investment of ${initial_investment} in the portfolio\"\n",
    "      f\" over the next 30 years will end within in the range of\"\n",
    "      f\" ${ci_lower} and ${ci_upper}\")"
   ]
  },
  {
   "cell_type": "markdown",
   "metadata": {},
   "source": [
    "### Calculate the expected portfolio return at the `95%` lower and upper confidence intervals based on a `50%` increase in the initial investment."
   ]
  },
  {
   "cell_type": "code",
   "execution_count": 60,
   "metadata": {},
   "outputs": [
    {
     "name": "stdout",
     "output_type": "stream",
     "text": [
      "There is a 95% chance that an initial investment of $30000.0 in the portfolio over the next 30 years will end within in the range of $81854.9 and $972704.51\n"
     ]
    }
   ],
   "source": [
    "# Set initial investment\n",
    "initial_investment = 20000 * 1.5\n",
    "\n",
    "# Use the lower and upper `95%` confidence intervals to calculate the range of the possible outcomes of our $30,000\n",
    "ci_lower = round(initial_investment * tbl[8],2)\n",
    "ci_upper = round(initial_investment * tbl[9],2)\n",
    "\n",
    "# Print results\n",
    "print(f\"There is a 95% chance that an initial investment of ${initial_investment} in the portfolio\"\n",
    "      f\" over the next 30 years will end within in the range of\"\n",
    "      f\" ${ci_lower} and ${ci_upper}\")"
   ]
  },
  {
   "cell_type": "markdown",
   "metadata": {},
   "source": [
    "## Optional Challenge - Early Retirement\n",
    "\n",
    "\n",
    "### Five Years Retirement Option"
   ]
  },
  {
   "cell_type": "code",
   "execution_count": null,
   "metadata": {},
   "outputs": [],
   "source": [
    "# Configuring a Monte Carlo simulation to forecast 5 years cumulative returns\n",
    "# YOUR CODE HERE!"
   ]
  },
  {
   "cell_type": "code",
   "execution_count": null,
   "metadata": {},
   "outputs": [],
   "source": [
    "# Running a Monte Carlo simulation to forecast 5 years cumulative returns\n",
    "# YOUR CODE HERE!"
   ]
  },
  {
   "cell_type": "code",
   "execution_count": null,
   "metadata": {},
   "outputs": [],
   "source": [
    "# Plot simulation outcomes\n",
    "# YOUR CODE HERE!"
   ]
  },
  {
   "cell_type": "code",
   "execution_count": null,
   "metadata": {},
   "outputs": [],
   "source": [
    "# Plot probability distribution and confidence intervals\n",
    "# YOUR CODE HERE!"
   ]
  },
  {
   "cell_type": "code",
   "execution_count": null,
   "metadata": {},
   "outputs": [],
   "source": [
    "# Fetch summary statistics from the Monte Carlo simulation results\n",
    "# YOUR CODE HERE!\n",
    "\n",
    "# Print summary statistics\n",
    "# YOUR CODE HERE!"
   ]
  },
  {
   "cell_type": "code",
   "execution_count": null,
   "metadata": {},
   "outputs": [],
   "source": [
    "# Set initial investment\n",
    "# YOUR CODE HERE!\n",
    "\n",
    "# Use the lower and upper `95%` confidence intervals to calculate the range of the possible outcomes of our $60,000\n",
    "# YOUR CODE HERE!\n",
    "\n",
    "# Print results\n",
    "print(f\"There is a 95% chance that an initial investment of ${initial_investment} in the portfolio\"\n",
    "      f\" over the next 5 years will end within in the range of\"\n",
    "      f\" ${ci_lower_five} and ${ci_upper_five}\")"
   ]
  },
  {
   "cell_type": "markdown",
   "metadata": {},
   "source": [
    "### Ten Years Retirement Option"
   ]
  },
  {
   "cell_type": "code",
   "execution_count": null,
   "metadata": {},
   "outputs": [],
   "source": [
    "# Configuring a Monte Carlo simulation to forecast 10 years cumulative returns\n",
    "# YOUR CODE HERE!"
   ]
  },
  {
   "cell_type": "code",
   "execution_count": null,
   "metadata": {},
   "outputs": [],
   "source": [
    "# Running a Monte Carlo simulation to forecast 10 years cumulative returns\n",
    "# YOUR CODE HERE!"
   ]
  },
  {
   "cell_type": "code",
   "execution_count": null,
   "metadata": {},
   "outputs": [],
   "source": [
    "# Plot simulation outcomes\n",
    "# YOUR CODE HERE!"
   ]
  },
  {
   "cell_type": "code",
   "execution_count": null,
   "metadata": {},
   "outputs": [],
   "source": [
    "# Plot probability distribution and confidence intervals\n",
    "# YOUR CODE HERE!"
   ]
  },
  {
   "cell_type": "code",
   "execution_count": null,
   "metadata": {},
   "outputs": [],
   "source": [
    "# Fetch summary statistics from the Monte Carlo simulation results\n",
    "# YOUR CODE HERE!\n",
    "\n",
    "# Print summary statistics\n",
    "# YOUR CODE HERE!"
   ]
  },
  {
   "cell_type": "code",
   "execution_count": null,
   "metadata": {},
   "outputs": [],
   "source": [
    "# Set initial investment\n",
    "# YOUR CODE HERE!\n",
    "\n",
    "# Use the lower and upper `95%` confidence intervals to calculate the range of the possible outcomes of our $60,000\n",
    "# YOUR CODE HERE!\n",
    "\n",
    "# Print results\n",
    "print(f\"There is a 95% chance that an initial investment of ${initial_investment} in the portfolio\"\n",
    "      f\" over the next 10 years will end within in the range of\"\n",
    "      f\" ${ci_lower_ten} and ${ci_upper_ten}\")"
   ]
  }
 ],
 "metadata": {
  "kernelspec": {
   "display_name": "Python 3",
   "language": "python",
   "name": "python3"
  },
  "language_info": {
   "codemirror_mode": {
    "name": "ipython",
    "version": 3
   },
   "file_extension": ".py",
   "mimetype": "text/x-python",
   "name": "python",
   "nbconvert_exporter": "python",
   "pygments_lexer": "ipython3",
   "version": "3.7.7"
  }
 },
 "nbformat": 4,
 "nbformat_minor": 4
}
